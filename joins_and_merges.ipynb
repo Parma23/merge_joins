{
  "cells": [
    {
      "attachments": {},
      "cell_type": "markdown",
      "metadata": {
        "id": "m7uLWJ0QYFem"
      },
      "source": [
        "# Coding Temple's Data Analytics Program\n",
        "---\n",
        "## Join and Merge Data \n",
        "\n",
        "### Helpful Resources\n",
        "\n",
        "* [Pandas Cheat Sheet](https://github.com/pandas-dev/pandas/blob/master/doc/cheatsheet/Pandas_Cheat_Sheet.pdf)\n",
        "* Python Data Science Handbook\n",
        "    * [Chapter 3.6](https://jakevdp.github.io/PythonDataScienceHandbook/03.06-concat-and-append.html), Combining Datasets: Concat and Append\n",
        "    * [Chapter 3.7](https://jakevdp.github.io/PythonDataScienceHandbook/03.07-merge-and-join.html), Combining Datasets: Merge and Join\n",
        "    * [Chapter 3.8](https://jakevdp.github.io/PythonDataScienceHandbook/03.08-aggregation-and-grouping.html), Aggregation and Grouping\n",
        "    * [Chapter 3.9](https://jakevdp.github.io/PythonDataScienceHandbook/03.09-pivot-tables.html), Pivot Tables"
      ]
    },
    {
      "attachments": {},
      "cell_type": "markdown",
      "metadata": {
        "id": "MXWtfMEBYFen"
      },
      "source": [
        "## Dataset Description\n",
        "\n",
        "You can view the CSV files [here](https://github.com/lucchesia7/coding_temple_da_data_store/tree/main/week-4/data/Instacart_small), before you load them into your notebook."
      ]
    },
    {
      "attachments": {},
      "cell_type": "markdown",
      "metadata": {
        "id": "1cACcILoYFen"
      },
      "source": [
        "**Task 1** - Load CSV files\n",
        "\n",
        "We're going to look at the Instacart data and load the files as we need them. The Pandas and numpy import statements have been provided for you as well as the URL for the dataset.\n",
        "\n",
        "* Using the provided URL (`data_url1`) load the product CSV file into a DataFrame called `product_names`.\n",
        "* Print the top five records (or rows) of `product_names`."
      ]
    },
    {
      "cell_type": "code",
      "execution_count": 5,
      "metadata": {
        "colab": {
          "base_uri": "https://localhost:8080/",
          "height": 204
        },
        "deletable": false,
        "id": "Bzt5Uk-LYFeo",
        "nbgrader": {
          "cell_type": "code",
          "checksum": "0df9e574dae5253e3ce8f5cd52cf1eb0",
          "grade": false,
          "grade_id": "cell-ef51cab74649e553",
          "locked": false,
          "schema_version": 3,
          "solution": true,
          "task": false
        },
        "outputId": "b1aa1813-e1b0-4b2a-ee7f-3e14dbab64a0"
      },
      "outputs": [
        {
          "data": {
            "text/html": [
              "<div>\n",
              "<style scoped>\n",
              "    .dataframe tbody tr th:only-of-type {\n",
              "        vertical-align: middle;\n",
              "    }\n",
              "\n",
              "    .dataframe tbody tr th {\n",
              "        vertical-align: top;\n",
              "    }\n",
              "\n",
              "    .dataframe thead th {\n",
              "        text-align: right;\n",
              "    }\n",
              "</style>\n",
              "<table border=\"1\" class=\"dataframe\">\n",
              "  <thead>\n",
              "    <tr style=\"text-align: right;\">\n",
              "      <th></th>\n",
              "      <th>product_id</th>\n",
              "      <th>product_name</th>\n",
              "      <th>aisle_id</th>\n",
              "      <th>department_id</th>\n",
              "    </tr>\n",
              "  </thead>\n",
              "  <tbody>\n",
              "    <tr>\n",
              "      <th>0</th>\n",
              "      <td>45676</td>\n",
              "      <td>Oil Free Acne Stress Control Power Clear Scrub</td>\n",
              "      <td>73</td>\n",
              "      <td>11</td>\n",
              "    </tr>\n",
              "    <tr>\n",
              "      <th>1</th>\n",
              "      <td>35408</td>\n",
              "      <td>Soymilk Vanilla Value Size</td>\n",
              "      <td>91</td>\n",
              "      <td>16</td>\n",
              "    </tr>\n",
              "    <tr>\n",
              "      <th>2</th>\n",
              "      <td>37442</td>\n",
              "      <td>Vegan Egg</td>\n",
              "      <td>86</td>\n",
              "      <td>16</td>\n",
              "    </tr>\n",
              "    <tr>\n",
              "      <th>3</th>\n",
              "      <td>41599</td>\n",
              "      <td>Organic Echinacea Herb Capsules</td>\n",
              "      <td>47</td>\n",
              "      <td>11</td>\n",
              "    </tr>\n",
              "    <tr>\n",
              "      <th>4</th>\n",
              "      <td>21994</td>\n",
              "      <td>Premium Saline Nasal Spray</td>\n",
              "      <td>11</td>\n",
              "      <td>11</td>\n",
              "    </tr>\n",
              "  </tbody>\n",
              "</table>\n",
              "</div>"
            ],
            "text/plain": [
              "   product_id                                    product_name  aisle_id   \n",
              "0       45676  Oil Free Acne Stress Control Power Clear Scrub        73  \\\n",
              "1       35408                      Soymilk Vanilla Value Size        91   \n",
              "2       37442                                       Vegan Egg        86   \n",
              "3       41599                 Organic Echinacea Herb Capsules        47   \n",
              "4       21994                      Premium Saline Nasal Spray        11   \n",
              "\n",
              "   department_id  \n",
              "0             11  \n",
              "1             16  \n",
              "2             16  \n",
              "3             11  \n",
              "4             11  "
            ]
          },
          "execution_count": 5,
          "metadata": {},
          "output_type": "execute_result"
        }
      ],
      "source": [
        "# Task 1\n",
        "\n",
        "# Imports \n",
        "import pandas as pd\n",
        "import numpy as np\n",
        "\n",
        "# Dataset URL\n",
        "data_url1 = 'https://raw.githubusercontent.com/lucchesia7/coding_temple_da_data_store/main/week-4/data/Instacart_small/product_names_sm.csv'\n",
        "# YOUR CODE HERE\n",
        "product_names = pd.read_csv(r'https://raw.githubusercontent.com/lucchesia7/coding_temple_da_data_store/main/week-4/data/Instacart_small/product_names_sm.csv')\n",
        "\n",
        "product_names.head(5)\n",
        "\n"
      ]
    },
    {
      "attachments": {},
      "cell_type": "markdown",
      "metadata": {
        "id": "rSKRp2nFYFep"
      },
      "source": [
        "**Task 2** - DataFrame concatenation\n",
        "\n",
        "**Check out the documentation for pd.concat() [here](https://pandas.pydata.org/docs/reference/api/pandas.concat.html)**\n",
        "\n",
        "Next, we're going to load two additional CSV files. The URLs have been provided so your task is to load the files into the appropriately named DataFrames and then to concatenate them into one DataFrame.\n",
        "\n",
        "* Load the CSV file at `data_url2` into a DataFrame called `order_products_prior`.\n",
        "* Load the CSV file at `data_url3` into a DataFrame called `order_products_train`.\n",
        "* Concatenate `order_products_prior` and `order_products_train` into one DataFrame called `order_products`."
      ]
    },
    {
      "cell_type": "code",
      "execution_count": 6,
      "metadata": {
        "colab": {
          "base_uri": "https://localhost:8080/",
          "height": 204
        },
        "deletable": false,
        "id": "FmP2DYkiYFep",
        "nbgrader": {
          "cell_type": "code",
          "checksum": "0e2a4229faf4b498e687f1c24477d172",
          "grade": false,
          "grade_id": "cell-0f442142d6bc8c39",
          "locked": false,
          "schema_version": 3,
          "solution": true,
          "task": false
        },
        "outputId": "43a27dc2-0246-4cbf-afbe-ade4aa9a42fd"
      },
      "outputs": [
        {
          "name": "stdout",
          "output_type": "stream",
          "text": [
            "       order_id  product_id  add_to_cart_order  reordered\n",
            "0       4874949       57589                 13          0\n",
            "1       4396391       43797                 30          0\n",
            "2       2255311       52699                 15          1\n",
            "3       2129938       71964                 22          0\n",
            "4       3765303       22399                 23          1\n",
            "...         ...         ...                ...        ...\n",
            "24995   4866850       54481                 29          1\n",
            "24996   2361167       53313                 13          2\n",
            "24997    551911       41380                 19          2\n",
            "24998   6081822       82505                 10          0\n",
            "24999   4635478       43259                 32          0\n",
            "\n",
            "[25000 rows x 4 columns]\n"
          ]
        }
      ],
      "source": [
        "# Task 2\n",
        "# Dataset URLs\n",
        "data_url2 = 'https://raw.githubusercontent.com/lucchesia7/coding_temple_da_data_store/main/week-4/data/Instacart_small/order_products_prior_sm.csv'\n",
        "data_url3 = 'https://raw.githubusercontent.com/lucchesia7/coding_temple_da_data_store/main/week-4/data/Instacart_small/order_products_train_sm.csv'\n",
        "# YOUR CODE HERE\n",
        "# loading first file into dataframe \n",
        "products_prior = pd.read_csv(r'https://raw.githubusercontent.com/lucchesia7/coding_temple_da_data_store/main/week-4/data/Instacart_small/order_products_prior_sm.csv')\n",
        "\n",
        "# Print the head to view your results\n",
        "products_prior.head()\n",
        " # loading another file into dataframe \n",
        "order_products_train = pd.read_csv(r'https://raw.githubusercontent.com/lucchesia7/coding_temple_da_data_store/main/week-4/data/Instacart_small/order_products_train_sm.csv')\n",
        "# printing 2nd file to view result\n",
        "order_products_train.head()\n",
        "\n",
        "# now concatenating above file into one dataframe \n",
        "\n",
        "order_products = products_prior + order_products_train\n",
        "# lets print the result \n",
        "print(order_products)\n",
        "\n"
      ]
    },
    {
      "attachments": {},
      "cell_type": "markdown",
      "metadata": {},
      "source": [
        "titanic = pd.read_csv(r'C:\\Users\\xende\\Downloads\\titanic.csv')\n",
        "titanic.head()"
      ]
    },
    {
      "attachments": {},
      "cell_type": "markdown",
      "metadata": {
        "id": "fmKvlv44YFeq"
      },
      "source": [
        "**Task 3** - Top five (5) products\n",
        "\n",
        "We're going to create a list of the top five products - we've already determined what the top five are so now it's your turn to put these items in a list.\n",
        "\n",
        "* Create a list called `five_products` with the following items: \"Bag of Organic Bananas\", \"Organic Baby Spinach\", \"Organic Avocado\", \"Large Lemon\", \"Limes\"\n",
        "\n",
        "*Note: Make sure to create the list with exact spelling as shown above!*"
      ]
    },
    {
      "cell_type": "code",
      "execution_count": 13,
      "metadata": {
        "deletable": false,
        "id": "ZLMqf5AZYFer",
        "nbgrader": {
          "cell_type": "code",
          "checksum": "a74a9f3e51ccd3e67edee7c3ba313176",
          "grade": false,
          "grade_id": "cell-ad8e4664b33be149",
          "locked": false,
          "schema_version": 3,
          "solution": true,
          "task": false
        }
      },
      "outputs": [
        {
          "name": "stdout",
          "output_type": "stream",
          "text": [
            "['Bag of Organic Bananas', 'Organic Baby Spinach', 'Organic Avocado', 'Large Lemon', 'Limes']\n"
          ]
        }
      ],
      "source": [
        "# Task 3\n",
        "# Top 5 products: five_products\n",
        "\n",
        "# YOUR CODE HERE\n",
        "\n",
        "five_products = [\"Bag of Organic Bananas\", \"Organic Baby Spinach\", \"Organic Avocado\", \"Large Lemon\", \"Limes\"]\n",
        "# print and see the list\n",
        "print(five_products)\n",
        "\n"
      ]
    },
    {
      "attachments": {},
      "cell_type": "markdown",
      "metadata": {
        "id": "O_CLTg4UYFes"
      },
      "source": [
        "**Task 4** - DataFrame subset using merge\n",
        "\n",
        "Create a subset of the `product_names` dataset that includes just the top **five** most ordered products. The `five_products` list has been converted to a DataFrame with the name `five`. Your task is to merge these DataFrames.\n",
        "\n",
        "* Merge `product_names` and `five` so the resulting DataFrame only includes the 5 most ordered products.  Name that DataFrame `top_products`."
      ]
    },
    {
      "cell_type": "code",
      "execution_count": 14,
      "metadata": {
        "colab": {
          "base_uri": "https://localhost:8080/",
          "height": 204
        },
        "deletable": false,
        "id": "64PbKKNJYFes",
        "nbgrader": {
          "cell_type": "code",
          "checksum": "551c13f284fb68df646af13907dd84e4",
          "grade": false,
          "grade_id": "cell-7818f18ec6921fb0",
          "locked": false,
          "schema_version": 3,
          "solution": true,
          "task": false
        },
        "outputId": "fad87b8c-4cad-4af3-9362-e3411a01503d"
      },
      "outputs": [
        {
          "name": "stdout",
          "output_type": "stream",
          "text": [
            "             product_name\n",
            "0  Bag of Organic Bananas\n",
            "1    Organic Baby Spinach\n",
            "2         Organic Avocado\n",
            "3             Large Lemon\n",
            "4                   Limes\n",
            "             product_name\n",
            "0  Bag of Organic Bananas\n",
            "1    Organic Baby Spinach\n",
            "2         Organic Avocado\n",
            "3             Large Lemon\n",
            "4                   Limes\n",
            "   product_id            product_name  aisle_id  department_id\n",
            "0       13176  Bag of Organic Bananas        24              4\n",
            "1       21903    Organic Baby Spinach       123              4\n",
            "2       47766         Organic Avocado        24              4\n",
            "3       47626             Large Lemon        24              4\n",
            "4       26209                   Limes        24              4\n"
          ]
        }
      ],
      "source": [
        "# Task 4\n",
        "# Convert five_products to a DataFrame called five\n",
        "five = pd.DataFrame(five_products, columns=['product_name'])\n",
        "print(five)\n",
        "\n",
        "# Create a subset of product_names with only the top 5 products.  \n",
        "top_5_products = five[:5]\n",
        "print(top_5_products)\n",
        "# Use your merge statement to include only the top 5 products\n",
        "# YOUR CODE HERE\n",
        "top_products = pd.merge(product_names,five, on= \"product_name\", how= \"right\")\n",
        "\n",
        "\n",
        "# Print your DataFrame to view the merge results\n",
        "print(top_products)"
      ]
    },
    {
      "attachments": {},
      "cell_type": "markdown",
      "metadata": {
        "id": "7NDmc1MCYFet"
      },
      "source": [
        "**Task 5** - More DataFrame merging\n",
        "\n",
        "Now we're going to merge the first DataFrame we created (`order_products`) with the one we just made above (`top_products`). This will result in a DataFrame with only the top five most ordered products.\n",
        "\n",
        "* Merge `order_products` and `top_products` and name the resulting DataFrame `final`.\n",
        "* Print the top 20 rows of `final` to view your result."
      ]
    },
    {
      "cell_type": "code",
      "execution_count": 32,
      "metadata": {
        "colab": {
          "base_uri": "https://localhost:8080/",
          "height": 419
        },
        "deletable": false,
        "id": "qz72gcTvYFet",
        "nbgrader": {
          "cell_type": "code",
          "checksum": "4b31e9ae3b32f4b50b9babe55c54d78a",
          "grade": false,
          "grade_id": "cell-977f302dd89af1df",
          "locked": false,
          "schema_version": 3,
          "solution": true,
          "task": false
        },
        "outputId": "8f0428c1-1863-4fa2-a6b5-83ab204c47dc"
      },
      "outputs": [
        {
          "data": {
            "text/html": [
              "<div>\n",
              "<style scoped>\n",
              "    .dataframe tbody tr th:only-of-type {\n",
              "        vertical-align: middle;\n",
              "    }\n",
              "\n",
              "    .dataframe tbody tr th {\n",
              "        vertical-align: top;\n",
              "    }\n",
              "\n",
              "    .dataframe thead th {\n",
              "        text-align: right;\n",
              "    }\n",
              "</style>\n",
              "<table border=\"1\" class=\"dataframe\">\n",
              "  <thead>\n",
              "    <tr style=\"text-align: right;\">\n",
              "      <th></th>\n",
              "      <th>order_id</th>\n",
              "      <th>product_id</th>\n",
              "      <th>add_to_cart_order</th>\n",
              "      <th>reordered</th>\n",
              "      <th>product_name</th>\n",
              "      <th>aisle_id</th>\n",
              "      <th>department_id</th>\n",
              "    </tr>\n",
              "  </thead>\n",
              "  <tbody>\n",
              "  </tbody>\n",
              "</table>\n",
              "</div>"
            ],
            "text/plain": [
              "Empty DataFrame\n",
              "Columns: [order_id, product_id, add_to_cart_order, reordered, product_name, aisle_id, department_id]\n",
              "Index: []"
            ]
          },
          "execution_count": 32,
          "metadata": {},
          "output_type": "execute_result"
        }
      ],
      "source": [
        "# Task 5\n",
        "# Merge order_products and top_products \n",
        "# YOUR CODE HERE\n",
        "import pandas as pd \n",
        "final = pd.merge(order_products, top_products)\n",
        "\n",
        "\n",
        "# Print your final DataFrame\n",
        "final.head(20)\n"
      ]
    },
    {
      "attachments": {},
      "cell_type": "markdown",
      "metadata": {
        "id": "Xp72iWggYFeu"
      },
      "source": [
        "**Task 6** - Top five products - value counts\n",
        "\n",
        "Note that every record in `final` is a single instance in which someone ordered one of the top five products.  Your task is to calcluate the number of times each product was ordered.\n",
        "\n",
        "* Calculate the **number of times** each product was ordered using `value_counts()`. Name the result `food_frequency`.\n",
        "* Assign the most frequently ordered food to the variable `top_item` (your variable should be a string; make sure to use the exact formatting returned above)."
      ]
    },
    {
      "cell_type": "code",
      "execution_count": null,
      "metadata": {
        "colab": {
          "base_uri": "https://localhost:8080/"
        },
        "deletable": false,
        "id": "_uyg5pLOYFeu",
        "nbgrader": {
          "cell_type": "code",
          "checksum": "8f29e56a39d33ba9ee78531bbebda218",
          "grade": false,
          "grade_id": "cell-9a3735ded06b8419",
          "locked": false,
          "schema_version": 3,
          "solution": true,
          "task": false
        },
        "outputId": "1708666c-a7b9-42f8-f1c5-51bc83af454d"
      },
      "outputs": [],
      "source": [
        "# Task 6\n",
        "import pandas as pd\n",
        "food_frequency = final['product_name'].value_counts()\n",
        "# Determine the number of times each product was ordered\n",
        "# YOUR CODE HERE\n",
        "top_item = (food_frequency.index[order_products])\n",
        "\n",
        "print(food_frequency)\n",
        "\n",
        "# View your results\n",
        "print(top_item)"
      ]
    },
    {
      "attachments": {},
      "cell_type": "markdown",
      "metadata": {
        "id": "ealNHIvkYFeu"
      },
      "source": [
        "**Task 7** - Using `groupby()` and `mean()`\n",
        "\n",
        "In this next step, we're going to import one last CSV file and look at the time of day an order was made. Your task is to complete the merging and look at the mean time of the top five orders.\n",
        "\n",
        "**Your tasks**\n",
        "* Merge `orders` and `final` into a DataFrame called `final_times` that only includes the top five foods.\n",
        "* Use the `groupby()` and `mean()` functions to calculate the mean time each product was ordered (`order_hour_of_day`).\n",
        "* Name the results of your calculation `mean_hours`."
      ]
    },
    {
      "cell_type": "code",
      "execution_count": null,
      "metadata": {
        "colab": {
          "base_uri": "https://localhost:8080/"
        },
        "deletable": false,
        "id": "VYlMrjl6YFeu",
        "nbgrader": {
          "cell_type": "code",
          "checksum": "70e21fb1271f65913ca3df374375949e",
          "grade": false,
          "grade_id": "cell-8932129638b4d019",
          "locked": false,
          "schema_version": 3,
          "solution": true,
          "task": false
        },
        "outputId": "e85b0b5e-7f83-4347-ee3e-34ddcedb8dbf"
      },
      "outputs": [],
      "source": [
        "# Task 7\n",
        "\n",
        "# COMPLETED FOR YOU\n",
        "# Import orders.csv and name the DataFrame orders\n",
        "data_url4 = 'https://raw.githubusercontent.com/lucchesia7/coding_temple_da_data_store/main/week-4/data/Instacart_small/orders_sm.csv'\n",
        "orders = pd.read_csv(data_url4)\n",
        "# Merge orders and final into the DataFrame final_time\n",
        "# Use groupby() and mean() to calculate the mean time each product was ordered\n",
        "# YOUR CODE HERE\n",
        "\n",
        "\n",
        "# View your results\n"
      ]
    },
    {
      "attachments": {},
      "cell_type": "markdown",
      "metadata": {
        "id": "VLa4OB5BYFev"
      },
      "source": [
        "**Task 8** - Mean order time\n",
        "\n",
        "Using the results from above, determine the mean order time for two of the top five items: \"Limes\" and \"Organic Baby Spinach\"\n",
        "\n",
        "* Find the mean order time for \"Limes\" and assign it to the variable `time_limes`. Your answer should be a float defined to one decimal place.\n",
        "* Find the mean order time for \"Organic Baby Spinach\" and assign it to the variable `time_spinach`. You answer should be a float defined to one decimal place."
      ]
    },
    {
      "cell_type": "code",
      "execution_count": null,
      "metadata": {
        "colab": {
          "base_uri": "https://localhost:8080/",
          "height": 51
        },
        "deletable": false,
        "id": "r3LDpL8KYFev",
        "nbgrader": {
          "cell_type": "code",
          "checksum": "710e71f05c3f22a2dda049a7f398d590",
          "grade": false,
          "grade_id": "cell-b160e1511b2388db",
          "locked": false,
          "schema_version": 3,
          "solution": true,
          "task": false
        },
        "outputId": "8aaba229-e805-4cd9-a11d-a7d6411f0fb1"
      },
      "outputs": [],
      "source": [
        "# Task 8\n",
        "# YOUR CODE HERE\n"
      ]
    }
  ],
  "metadata": {
    "colab": {
      "provenance": []
    },
    "kernelspec": {
      "display_name": "Python 3",
      "language": "python",
      "name": "python3"
    },
    "language_info": {
      "codemirror_mode": {
        "name": "ipython",
        "version": 3
      },
      "file_extension": ".py",
      "mimetype": "text/x-python",
      "name": "python",
      "nbconvert_exporter": "python",
      "pygments_lexer": "ipython3",
      "version": "3.11.3"
    }
  },
  "nbformat": 4,
  "nbformat_minor": 0
}
